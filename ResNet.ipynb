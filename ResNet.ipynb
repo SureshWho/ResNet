{
  "nbformat": 4,
  "nbformat_minor": 0,
  "metadata": {
    "colab": {
      "name": "ResNet.ipynb",
      "version": "0.3.2",
      "provenance": [],
      "collapsed_sections": [],
      "include_colab_link": true
    },
    "kernelspec": {
      "name": "python3",
      "display_name": "Python 3"
    }
  },
  "cells": [
    {
      "cell_type": "markdown",
      "metadata": {
        "id": "view-in-github",
        "colab_type": "text"
      },
      "source": [
        "<a href=\"https://colab.research.google.com/github/SureshWho/ResNet/blob/master/ResNet.ipynb\" target=\"_parent\"><img src=\"https://colab.research.google.com/assets/colab-badge.svg\" alt=\"Open In Colab\"/></a>"
      ]
    },
    {
      "metadata": {
        "id": "L7XlpOOhI8KW",
        "colab_type": "text"
      },
      "cell_type": "markdown",
      "source": [
        "# Residual Networks (ResNet)\n",
        "\n",
        "## Introduction\n",
        "\n",
        "Invented by **Kaiming He, Xiangyu Zhang, Shaoqing Ren, Jian Sun** to train very deep neural network.\n",
        "\n",
        "Very deep neural networks are difficult to train because of vanishing and exploding gradient problems. ***ResNet*** enables training very deep networks, by skipping connections. It takes an activation from one layer and suddenly feed it to another layer much deeper in the neural network.\n",
        "\n",
        "## How it works?\n",
        "\n",
        "**TODO**\n",
        "- Add picture between normal and Residual Network\n",
        "- Link to Vanishing and exploding gradient\n",
        "- Formula\n",
        "\n",
        "### Intuition \n",
        "\n",
        "### Comparision\n",
        "\n",
        "## References\n",
        "[Deep Residual Learning for Image Recognition ](https://arxiv.org/abs/1512.03385)"
      ]
    },
    {
      "metadata": {
        "id": "AflzaNmIEI6z",
        "colab_type": "code",
        "colab": {}
      },
      "cell_type": "code",
      "source": [
        ""
      ],
      "execution_count": 0,
      "outputs": []
    }
  ]
}